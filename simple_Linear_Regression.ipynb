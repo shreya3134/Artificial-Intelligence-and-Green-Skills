{
 "cells": [
  {
   "cell_type": "code",
   "execution_count": 1,
   "id": "5bc02ff5-6f83-41ef-bb64-b4e30b1c279b",
   "metadata": {},
   "outputs": [
    {
     "name": "stdout",
     "output_type": "stream",
     "text": [
      "Requirement already satisfied: pandas in c:\\users\\swapnil\\anaconda3\\lib\\site-packages (2.1.4)\n",
      "Requirement already satisfied: numpy<2,>=1.23.2 in c:\\users\\swapnil\\anaconda3\\lib\\site-packages (from pandas) (1.26.4)\n",
      "Requirement already satisfied: python-dateutil>=2.8.2 in c:\\users\\swapnil\\anaconda3\\lib\\site-packages (from pandas) (2.8.2)\n",
      "Requirement already satisfied: pytz>=2020.1 in c:\\users\\swapnil\\anaconda3\\lib\\site-packages (from pandas) (2023.3.post1)\n",
      "Requirement already satisfied: tzdata>=2022.1 in c:\\users\\swapnil\\anaconda3\\lib\\site-packages (from pandas) (2023.3)\n",
      "Requirement already satisfied: six>=1.5 in c:\\users\\swapnil\\anaconda3\\lib\\site-packages (from python-dateutil>=2.8.2->pandas) (1.16.0)\n"
     ]
    }
   ],
   "source": [
    "!pip install pandas"
   ]
  },
  {
   "cell_type": "code",
   "execution_count": 2,
   "id": "aaa79dad-2c77-463f-a40e-5d939020e3de",
   "metadata": {},
   "outputs": [],
   "source": [
    "import numpy as np\n",
    "import pandas as pd\n",
    "import seaborn as sns\n",
    "import matplotlib.pyplot as plt"
   ]
  },
  {
   "cell_type": "code",
   "execution_count": 4,
   "id": "1a0d8512-5366-48ec-a93d-1df0d1b08408",
   "metadata": {},
   "outputs": [
    {
     "data": {
      "text/html": [
       "<div>\n",
       "<style scoped>\n",
       "    .dataframe tbody tr th:only-of-type {\n",
       "        vertical-align: middle;\n",
       "    }\n",
       "\n",
       "    .dataframe tbody tr th {\n",
       "        vertical-align: top;\n",
       "    }\n",
       "\n",
       "    .dataframe thead th {\n",
       "        text-align: right;\n",
       "    }\n",
       "</style>\n",
       "<table border=\"1\" class=\"dataframe\">\n",
       "  <thead>\n",
       "    <tr style=\"text-align: right;\">\n",
       "      <th></th>\n",
       "      <th>Temperature (°C)</th>\n",
       "      <th>Energy Consumption (kWh)</th>\n",
       "    </tr>\n",
       "  </thead>\n",
       "  <tbody>\n",
       "    <tr>\n",
       "      <th>0</th>\n",
       "      <td>22.490802</td>\n",
       "      <td>2.292604</td>\n",
       "    </tr>\n",
       "    <tr>\n",
       "      <th>1</th>\n",
       "      <td>34.014286</td>\n",
       "      <td>3.251925</td>\n",
       "    </tr>\n",
       "    <tr>\n",
       "      <th>2</th>\n",
       "      <td>29.639879</td>\n",
       "      <td>3.009868</td>\n",
       "    </tr>\n",
       "    <tr>\n",
       "      <th>3</th>\n",
       "      <td>26.973170</td>\n",
       "      <td>1.703533</td>\n",
       "    </tr>\n",
       "    <tr>\n",
       "      <th>4</th>\n",
       "      <td>18.120373</td>\n",
       "      <td>1.702201</td>\n",
       "    </tr>\n",
       "  </tbody>\n",
       "</table>\n",
       "</div>"
      ],
      "text/plain": [
       "   Temperature (°C)  Energy Consumption (kWh)\n",
       "0         22.490802                  2.292604\n",
       "1         34.014286                  3.251925\n",
       "2         29.639879                  3.009868\n",
       "3         26.973170                  1.703533\n",
       "4         18.120373                  1.702201"
      ]
     },
     "execution_count": 4,
     "metadata": {},
     "output_type": "execute_result"
    }
   ],
   "source": [
    "data_frame = pd.read_csv(\"appliance_energy.csv\")   #comma separated values\n",
    "data_frame.head(5)"
   ]
  },
  {
   "cell_type": "code",
   "execution_count": 5,
   "id": "32e23455-41cb-4bfb-9030-0a1bccd8fc34",
   "metadata": {},
   "outputs": [
    {
     "data": {
      "text/plain": [
       "Temperature (°C)            0\n",
       "Energy Consumption (kWh)    0\n",
       "dtype: int64"
      ]
     },
     "execution_count": 5,
     "metadata": {},
     "output_type": "execute_result"
    }
   ],
   "source": [
    "data_frame.isnull().sum()"
   ]
  },
  {
   "cell_type": "code",
   "execution_count": 6,
   "id": "efbb5370-0415-4d63-a954-89ef07880b87",
   "metadata": {},
   "outputs": [
    {
     "data": {
      "text/plain": [
       "Temperature (°C)            float64\n",
       "Energy Consumption (kWh)    float64\n",
       "dtype: object"
      ]
     },
     "execution_count": 6,
     "metadata": {},
     "output_type": "execute_result"
    }
   ],
   "source": [
    "data_frame.dtypes"
   ]
  },
  {
   "cell_type": "code",
   "execution_count": 7,
   "id": "1c8ba378-b826-42b9-854a-3ddc3f1bff21",
   "metadata": {},
   "outputs": [
    {
     "name": "stdout",
     "output_type": "stream",
     "text": [
      "<class 'pandas.core.frame.DataFrame'>\n",
      "RangeIndex: 100 entries, 0 to 99\n",
      "Data columns (total 2 columns):\n",
      " #   Column                    Non-Null Count  Dtype  \n",
      "---  ------                    --------------  -----  \n",
      " 0   Temperature (°C)          100 non-null    float64\n",
      " 1   Energy Consumption (kWh)  100 non-null    float64\n",
      "dtypes: float64(2)\n",
      "memory usage: 1.7 KB\n"
     ]
    }
   ],
   "source": [
    "data_frame.info()"
   ]
  },
  {
   "cell_type": "code",
   "execution_count": 9,
   "id": "09e10e5c-40f5-4285-b813-2c0fb8669a6f",
   "metadata": {},
   "outputs": [
    {
     "data": {
      "text/plain": [
       "(100, 2)"
      ]
     },
     "execution_count": 9,
     "metadata": {},
     "output_type": "execute_result"
    }
   ],
   "source": [
    "data_frame.shape"
   ]
  },
  {
   "cell_type": "code",
   "execution_count": 17,
   "id": "a35034eb-a4df-4cb2-8575-262380d0d20a",
   "metadata": {},
   "outputs": [
    {
     "data": {
      "text/plain": [
       "Text(0, 0.5, 'Energy Consumption (kWh)')"
      ]
     },
     "execution_count": 17,
     "metadata": {},
     "output_type": "execute_result"
    },
    {
     "data": {
      "image/png": "[encoded data removed]",
      "text/plain": [
       "<Figure size 640x480 with 1 Axes>"
      ]
     },
     "metadata": {},
     "output_type": "display_data"
    }
   ],
   "source": [
    "# If the degree symbol is in your dataframe's column names, remove it\n",
    "data_frame.columns = data_frame.columns.str.replace('°', '', regex=False)\n",
    "\n",
    "# Now plot the scatter plot without the degree symbol\n",
    "plt.scatter(data_frame['Temperature (C)'], data_frame['Energy Consumption (kWh)'], color='red')\n",
    "plt.title('Temperature vs Energy Consumption')\n",
    "\n",
    "plt.xlabel('Temperature')\n",
    "plt.ylabel('Energy Consumption (kWh)')\n"
   ]
  },
  {
   "cell_type": "code",
   "execution_count": 18,
   "id": "e94184db-4e6f-49a0-9cc4-00bcf449f8e4",
   "metadata": {},
   "outputs": [],
   "source": [
    "from sklearn.model_selection import train_test_split\n",
    "from sklearn.linear_model import LinearRegression\n",
    "from sklearn.metrics import mean_squared_error, r2_score"
   ]
  },
  {
   "cell_type": "code",
   "execution_count": 22,
   "id": "2d47f6cd-640a-4998-ab8b-979e6fa5f982",
   "metadata": {},
   "outputs": [],
   "source": [
    "X=data_frame[['Temperature (C)']]\n",
    "y=data_frame[['Energy Consumption (kWh)']]"
   ]
  },
  {
   "cell_type": "code",
   "execution_count": 23,
   "id": "d8ffc013-c0d4-4149-be73-bb93fae65ce5",
   "metadata": {},
   "outputs": [],
   "source": [
    "X_train,X_test,y_train,y_test= train_test_split(X,y,test_size=0.2,random_state=42)"
   ]
  },
  {
   "cell_type": "code",
   "execution_count": 24,
   "id": "fa9188e4-d1bd-4c52-857b-8b3fac9c5f09",
   "metadata": {},
   "outputs": [
    {
     "data": {
      "text/html": [
       "<style>#sk-container-id-1 {color: black;background-color: white;}#sk-container-id-1 pre{padding: 0;}#sk-container-id-1 div.sk-toggleable {background-color: white;}#sk-container-id-1 label.sk-toggleable__label {cursor: pointer;display: block;width: 100%;margin-bottom: 0;padding: 0.3em;box-sizing: border-box;text-align: center;}#sk-container-id-1 label.sk-toggleable__label-arrow:before {content: \"▸\";float: left;margin-right: 0.25em;color: #696969;}#sk-container-id-1 label.sk-toggleable__label-arrow:hover:before {color: black;}#sk-container-id-1 div.sk-estimator:hover label.sk-toggleable__label-arrow:before {color: black;}#sk-container-id-1 div.sk-toggleable__content {max-height: 0;max-width: 0;overflow: hidden;text-align: left;background-color: #f0f8ff;}#sk-container-id-1 div.sk-toggleable__content pre {margin: 0.2em;color: black;border-radius: 0.25em;background-color: #f0f8ff;}#sk-container-id-1 input.sk-toggleable__control:checked~div.sk-toggleable__content {max-height: 200px;max-width: 100%;overflow: auto;}#sk-container-id-1 input.sk-toggleable__control:checked~label.sk-toggleable__label-arrow:before {content: \"▾\";}#sk-container-id-1 div.sk-estimator input.sk-toggleable__control:checked~label.sk-toggleable__label {background-color: #d4ebff;}#sk-container-id-1 div.sk-label input.sk-toggleable__control:checked~label.sk-toggleable__label {background-color: #d4ebff;}#sk-container-id-1 input.sk-hidden--visually {border: 0;clip: rect(1px 1px 1px 1px);clip: rect(1px, 1px, 1px, 1px);height: 1px;margin: -1px;overflow: hidden;padding: 0;position: absolute;width: 1px;}#sk-container-id-1 div.sk-estimator {font-family: monospace;background-color: #f0f8ff;border: 1px dotted black;border-radius: 0.25em;box-sizing: border-box;margin-bottom: 0.5em;}#sk-container-id-1 div.sk-estimator:hover {background-color: #d4ebff;}#sk-container-id-1 div.sk-parallel-item::after {content: \"\";width: 100%;border-bottom: 1px solid gray;flex-grow: 1;}#sk-container-id-1 div.sk-label:hover label.sk-toggleable__label {background-color: #d4ebff;}#sk-container-id-1 div.sk-serial::before {content: \"\";position: absolute;border-left: 1px solid gray;box-sizing: border-box;top: 0;bottom: 0;left: 50%;z-index: 0;}#sk-container-id-1 div.sk-serial {display: flex;flex-direction: column;align-items: center;background-color: white;padding-right: 0.2em;padding-left: 0.2em;position: relative;}#sk-container-id-1 div.sk-item {position: relative;z-index: 1;}#sk-container-id-1 div.sk-parallel {display: flex;align-items: stretch;justify-content: center;background-color: white;position: relative;}#sk-container-id-1 div.sk-item::before, #sk-container-id-1 div.sk-parallel-item::before {content: \"\";position: absolute;border-left: 1px solid gray;box-sizing: border-box;top: 0;bottom: 0;left: 50%;z-index: -1;}#sk-container-id-1 div.sk-parallel-item {display: flex;flex-direction: column;z-index: 1;position: relative;background-color: white;}#sk-container-id-1 div.sk-parallel-item:first-child::after {align-self: flex-end;width: 50%;}#sk-container-id-1 div.sk-parallel-item:last-child::after {align-self: flex-start;width: 50%;}#sk-container-id-1 div.sk-parallel-item:only-child::after {width: 0;}#sk-container-id-1 div.sk-dashed-wrapped {border: 1px dashed gray;margin: 0 0.4em 0.5em 0.4em;box-sizing: border-box;padding-bottom: 0.4em;background-color: white;}#sk-container-id-1 div.sk-label label {font-family: monospace;font-weight: bold;display: inline-block;line-height: 1.2em;}#sk-container-id-1 div.sk-label-container {text-align: center;}#sk-container-id-1 div.sk-container {/* jupyter's `normalize.less` sets `[hidden] { display: none; }` but bootstrap.min.css set `[hidden] { display: none !important; }` so we also need the `!important` here to be able to override the default hidden behavior on the sphinx rendered scikit-learn.org. See: https://github.com/scikit-learn/scikit-learn/issues/21755 */display: inline-block !important;position: relative;}#sk-container-id-1 div.sk-text-repr-fallback {display: none;}</style><div id=\"sk-container-id-1\" class=\"sk-top-container\"><div class=\"sk-text-repr-fallback\"><pre>LinearRegression()</pre><b>In a Jupyter environment, please rerun this cell to show the HTML representation or trust the notebook. <br />On GitHub, the HTML representation is unable to render, please try loading this page with nbviewer.org.</b></div><div class=\"sk-container\" hidden><div class=\"sk-item\"><div class=\"sk-estimator sk-toggleable\"><input class=\"sk-toggleable__control sk-hidden--visually\" id=\"sk-estimator-id-1\" type=\"checkbox\" checked><label for=\"sk-estimator-id-1\" class=\"sk-toggleable__label sk-toggleable__label-arrow\">LinearRegression</label><div class=\"sk-toggleable__content\"><pre>LinearRegression()</pre></div></div></div></div></div>"
      ],
      "text/plain": [
       "LinearRegression()"
      ]
     },
     "execution_count": 24,
     "metadata": {},
     "output_type": "execute_result"
    }
   ],
   "source": [
    "model=LinearRegression()\n",
    "model.fit(X_train,y_train)"
   ]
  },
  {
   "cell_type": "code",
   "execution_count": 27,
   "id": "255efa63-b896-4ebc-881f-2c5cfccef221",
   "metadata": {},
   "outputs": [],
   "source": [
    "y_pred=model.predict(X_test)   # Make prediction on test data "
   ]
  },
  {
   "cell_type": "code",
   "execution_count": 28,
   "id": "490d350c-f573-47b8-99d3-178f6b5e129b",
   "metadata": {},
   "outputs": [
    {
     "data": {
      "text/plain": [
       "array([[1.6858187 ],\n",
       "       [3.18154068],\n",
       "       [2.96097494],\n",
       "       [2.76354868],\n",
       "       [2.0370856 ],\n",
       "       [2.36343345],\n",
       "       [2.09711944],\n",
       "       [3.12445907],\n",
       "       [1.60849483],\n",
       "       [2.24537556],\n",
       "       [2.34866555],\n",
       "       [2.66462648],\n",
       "       [3.0387357 ],\n",
       "       [3.27880886],\n",
       "       [1.78664542],\n",
       "       [1.85218469],\n",
       "       [2.95922164],\n",
       "       [1.70468695],\n",
       "       [3.0692904 ],\n",
       "       [1.87828475]])"
      ]
     },
     "execution_count": 28,
     "metadata": {},
     "output_type": "execute_result"
    }
   ],
   "source": [
    "y_pred"
   ]
  },
  {
   "cell_type": "markdown",
   "id": "80e41497-342c-4f5d-9ce2-7667b94c3542",
   "metadata": {},
   "source": [
    "EVALUATE THE MODEL"
   ]
  },
  {
   "cell_type": "code",
   "execution_count": 31,
   "id": "ec4b43ac-a6b1-4a6c-aa19-67119cbec7ec",
   "metadata": {},
   "outputs": [
    {
     "name": "stdout",
     "output_type": "stream",
     "text": [
      "Mean Square error 0.16342487842925058\n",
      "R-squared value: 0.6119478445218713\n"
     ]
    }
   ],
   "source": [
    "#Calculate the Mean Square Error\n",
    "mse=mean_squared_error(y_test,y_pred)\n",
    "print(\"Mean Square error\",mse)\n",
    "\n",
    "#calculate R-squared value\n",
    "r2=r2_score(y_test,y_pred)\n",
    "print(\"R-squared value:\",r2)"
   ]
  },
  {
   "cell_type": "code",
   "execution_count": 32,
   "id": "dbfeaa52-e575-4817-9b96-971f5a9d981d",
   "metadata": {},
   "outputs": [
    {
     "data": {
      "image/png": "[encoded data removed]",
      "text/plain": [
       "<Figure size 640x480 with 1 Axes>"
      ]
     },
     "metadata": {},
     "output_type": "display_data"
    }
   ],
   "source": [
    "#scatter plot between actual and predicted\n",
    "# Plot the test data and regression line\n",
    "plt.scatter(X_test, y_test, color='blue', label='Test Data')  # Actual data\n",
    "plt.plot(X_test, y_pred, color='red', label='Regression Line')  # Predicted data\n",
    "plt.xlabel('Temperature (°C)')\n",
    "plt.ylabel('Energy Consumption (kWh)')\n",
    "plt.legend()\n",
    "plt.title('Energy Consumption Prediction using Simple Linear Regression')\n",
    "plt.show()"
   ]
  },
  {
   "cell_type": "code",
   "execution_count": 33,
   "id": "de6ebedd-f65b-4e1f-80d7-cd80acecd01e",
   "metadata": {},
   "outputs": [
    {
     "data": {
      "text/plain": [
       "['appliance_energy_model.pkl']"
      ]
     },
     "execution_count": 33,
     "metadata": {},
     "output_type": "execute_result"
    }
   ],
   "source": [
    "import joblib\n",
    "#save the model to a file\n",
    "joblib.dump(model,'appliance_energy_model.pkl')"
   ]
  },
  {
   "cell_type": "code",
   "execution_count": 34,
   "id": "472cf118-8363-4c6b-9e2f-6286e7dcba7e",
   "metadata": {},
   "outputs": [],
   "source": [
    "model=joblib.load('appliance_energy_model.pkl')"
   ]
  },
  {
   "cell_type": "code",
   "execution_count": 35,
   "id": "e2e200c1-cf25-4f43-b419-0adf292cbfec",
   "metadata": {},
   "outputs": [],
   "source": [
    "input_data=[[26.97]]"
   ]
  },
  {
   "cell_type": "code",
   "execution_count": 40,
   "id": "3974ff79-2009-4b31-9180-2a64b552ebf2",
   "metadata": {},
   "outputs": [
    {
     "name": "stdout",
     "output_type": "stream",
     "text": [
      "Predicted appliance energy consumption [[2.64835187]]\n"
     ]
    },
    {
     "name": "stderr",
     "output_type": "stream",
     "text": [
      "C:\\Users\\swapnil\\anaconda3\\Lib\\site-packages\\sklearn\\base.py:439: UserWarning: X does not have valid feature names, but LinearRegression was fitted with feature names\n",
      "  warnings.warn(\n"
     ]
    }
   ],
   "source": [
    "prediction=model.predict(input_data)\n",
    "print(\"Predicted appliance energy consumption\", prediction)"
   ]
  },
  {
   "cell_type": "code",
   "execution_count": null,
   "id": "61430788-786d-40ce-9d02-e01ff2b615ce",
   "metadata": {},
   "outputs": [],
   "source": []
  }
 ],
 "metadata": {
  "kernelspec": {
   "display_name": "Python 3 (ipykernel)",
   "language": "python",
   "name": "python3"
  },
  "language_info": {
   "codemirror_mode": {
    "name": "ipython",
    "version": 3
   },
   "file_extension": ".py",
   "mimetype": "text/x-python",
   "name": "python",
   "nbconvert_exporter": "python",
   "pygments_lexer": "ipython3",
   "version": "3.11.7"
  }
 },
 "nbformat": 4,
 "nbformat_minor": 5
}
