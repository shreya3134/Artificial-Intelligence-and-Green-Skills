{
 "cells": [
  {
   "cell_type": "code",
   "execution_count": 4,
   "id": "7c94b4ff-a703-4201-af44-0243e3b61e3c",
   "metadata": {},
   "outputs": [
    {
     "name": "stdout",
     "output_type": "stream",
     "text": [
      "Modern College of Engineering**"
     ]
    }
   ],
   "source": [
    "#Print statement\n",
    "print(\"Modern College of Engineering\", end=\"**\")"
   ]
  },
  {
   "cell_type": "code",
   "execution_count": 5,
   "id": "9e20dffd-6ecb-459e-872a-d2007b3d8ca3",
   "metadata": {},
   "outputs": [
    {
     "name": "stdout",
     "output_type": "stream",
     "text": [
      "This is Modern College-Pune\n"
     ]
    }
   ],
   "source": [
    "print(\"This is Modern College\",\"Pune\", sep=\"-\")"
   ]
  },
  {
   "cell_type": "code",
   "execution_count": 7,
   "id": "486aa956-a4a4-4d62-90cc-c6da29955113",
   "metadata": {},
   "outputs": [
    {
     "name": "stdout",
     "output_type": "stream",
     "text": [
      "The value of a is: 10\n"
     ]
    }
   ],
   "source": [
    "a=10\n",
    "print(\"The value of a is:\",a)"
   ]
  },
  {
   "cell_type": "code",
   "execution_count": 15,
   "id": "04e87f7b-572a-43e6-b334-44ac2061e5ff",
   "metadata": {},
   "outputs": [
    {
     "name": "stdout",
     "output_type": "stream",
     "text": [
      "the value 10 is assigned to variable a\n"
     ]
    }
   ],
   "source": [
    "print(f\"the value {a} is assigned to variable a\")"
   ]
  },
  {
   "cell_type": "code",
   "execution_count": 16,
   "id": "021cc052-19e8-459e-a0d9-0d891e8d0dac",
   "metadata": {},
   "outputs": [
    {
     "name": "stdout",
     "output_type": "stream",
     "text": [
      "the value is assigned to variable a = 10\n"
     ]
    }
   ],
   "source": [
    "print(f\"the value is assigned to variable a = {a}\")"
   ]
  },
  {
   "cell_type": "code",
   "execution_count": 14,
   "id": "961b3324-8957-45a4-b1c6-ca6c8369deb9",
   "metadata": {},
   "outputs": [
    {
     "data": {
      "text/plain": [
       "int"
      ]
     },
     "execution_count": 14,
     "metadata": {},
     "output_type": "execute_result"
    }
   ],
   "source": [
    "type(a)"
   ]
  },
  {
   "cell_type": "code",
   "execution_count": 17,
   "id": "1c965293-fe3a-4227-9e5f-2b5a30500f92",
   "metadata": {},
   "outputs": [
    {
     "name": "stdout",
     "output_type": "stream",
     "text": [
      "the value 11.7 is assigned to variable b\n"
     ]
    }
   ],
   "source": [
    "b=11.7\n",
    "print(f\"the value {b} is assigned to variable b\")"
   ]
  },
  {
   "cell_type": "code",
   "execution_count": 19,
   "id": "73a868f4-28e0-4601-91a5-19ea85333a40",
   "metadata": {},
   "outputs": [
    {
     "data": {
      "text/plain": [
       "float"
      ]
     },
     "execution_count": 19,
     "metadata": {},
     "output_type": "execute_result"
    }
   ],
   "source": [
    "type(b)"
   ]
  },
  {
   "cell_type": "code",
   "execution_count": 22,
   "id": "9f10fbd7-b0be-469a-83a1-0cfeb382aec6",
   "metadata": {},
   "outputs": [
    {
     "name": "stdout",
     "output_type": "stream",
     "text": [
      "10.0\n",
      "11\n"
     ]
    }
   ],
   "source": [
    "#Change the datatype \n",
    "print(float(a))\n",
    "print(int(b))"
   ]
  },
  {
   "cell_type": "code",
   "execution_count": 26,
   "id": "4e418af6-80d7-4eeb-bc2e-0298b5610c1e",
   "metadata": {},
   "outputs": [
    {
     "name": "stdout",
     "output_type": "stream",
     "text": [
      "carbon_footprint:409 kg Co2\n"
     ]
    }
   ],
   "source": [
    "carbon_footprint=409  \n",
    "print(f\"carbon_footprint:{carbon_footprint} kg Co2\")"
   ]
  },
  {
   "cell_type": "code",
   "execution_count": 28,
   "id": "41a50116-e4ed-45f0-b532-3a56e9f93295",
   "metadata": {},
   "outputs": [
    {
     "data": {
      "text/plain": [
       "True"
      ]
     },
     "execution_count": 28,
     "metadata": {},
     "output_type": "execute_result"
    }
   ],
   "source": [
    "carbon_footprint>400"
   ]
  },
  {
   "cell_type": "code",
   "execution_count": 31,
   "id": "ddba8c65-ee9a-47fa-9d31-37c4969af762",
   "metadata": {},
   "outputs": [
    {
     "name": "stdout",
     "output_type": "stream",
     "text": [
      "Is the city sustainable? False\n"
     ]
    }
   ],
   "source": [
    "is_sustainable=carbon_footprint<400\n",
    "print(f\"Is the city sustainable? {is_sustainable}\")"
   ]
  },
  {
   "cell_type": "code",
   "execution_count": 35,
   "id": "68bc29e3-03a5-4e46-859d-12f58776d7a6",
   "metadata": {},
   "outputs": [],
   "source": [
    "weekly_temperature=[30,29,33,28,34,32,26]"
   ]
  },
  {
   "cell_type": "code",
   "execution_count": 36,
   "id": "80c5be2f-66af-4b8d-bb5f-acd1f589a4f8",
   "metadata": {},
   "outputs": [
    {
     "name": "stdout",
     "output_type": "stream",
     "text": [
      "[30, 29, 33, 28, 32, 26]\n",
      "Updated weekly_temperature:[30, 29, 33, 28, 32, 26]\n"
     ]
    }
   ],
   "source": [
    "\"\"\"operations on list\n",
    "1)Remove\"\"\"\n",
    "weekly_temperature.remove(34)\n",
    "print(weekly_temperature)\n",
    "print(f\"Updated weekly_temperature:{weekly_temperature}\")"
   ]
  },
  {
   "cell_type": "code",
   "execution_count": 45,
   "id": "bfa358d6-8a9a-4a48-b36d-02c163fe6e99",
   "metadata": {},
   "outputs": [
    {
     "name": "stdout",
     "output_type": "stream",
     "text": [
      "Updated2weekly_temperature:[27, 30, 29, 33, 28, 32, 26, 25]\n"
     ]
    }
   ],
   "source": [
    "weekly_temperature.insert(0,27)\n",
    "print(f\"Updated2weekly_temperature:{weekly_temperature}\")"
   ]
  },
  {
   "cell_type": "code",
   "execution_count": 37,
   "id": "9d37c60c-c53a-43ec-aaee-c48a5204b4c1",
   "metadata": {},
   "outputs": [
    {
     "name": "stdout",
     "output_type": "stream",
     "text": [
      "Updated2weekly_temperature:[30, 29, 33, 28, 32, 26, 25]\n"
     ]
    }
   ],
   "source": [
    "#2)append \n",
    "weekly_temperature.append(25)\n",
    "print(f\"Updated2weekly_temperature:{weekly_temperature}\")"
   ]
  },
  {
   "cell_type": "raw",
   "id": "176a1506-ba5a-4688-a443-85b3ea435edc",
   "metadata": {},
   "source": [
    "DICTIONARY"
   ]
  },
  {
   "cell_type": "code",
   "execution_count": 38,
   "id": "4f47adc5-daae-4a21-9d54-21a99fdb4db6",
   "metadata": {},
   "outputs": [
    {
     "name": "stdout",
     "output_type": "stream",
     "text": [
      "City Data:{'Name': 'Pune', 'Temperature': 28, 'carbon_foorprint': 500.3, 'is_sustainable': False}\n"
     ]
    }
   ],
   "source": [
    "city_data={\"Name\":\"Pune\",\"Temperature\":28,\"carbon_foorprint\":500.3,\"is_sustainable\":False}\n",
    "print(f\"City Data:{city_data}\")"
   ]
  },
  {
   "cell_type": "code",
   "execution_count": 42,
   "id": "90491add-fc68-4fdf-9926-7d9ead97a6f1",
   "metadata": {},
   "outputs": [
    {
     "name": "stdout",
     "output_type": "stream",
     "text": [
      "City Data:{'Name': 'Pune', 'Temperature': 28, 'carbon_foorprint': 500.3, 'is_sustainable': False, 'AQI': 120}\n"
     ]
    }
   ],
   "source": [
    "city_data[\"AQI\"]=120        #city_data.update[\"AQI\"]=120  \n",
    "print(f\"City Data:{city_data}\")"
   ]
  },
  {
   "cell_type": "code",
   "execution_count": 44,
   "id": "82f1189f-58f5-4383-8e02-772341b571d1",
   "metadata": {},
   "outputs": [
    {
     "name": "stdout",
     "output_type": "stream",
     "text": [
      "Update 3 City Data:{'Temperature': 28, 'carbon_foorprint': 500.3, 'is_sustainable': False, 'AQI': 120}\n"
     ]
    }
   ],
   "source": [
    "del city_data[\"Name\"]\n",
    "print(f\"Update 3 City Data:{city_data}\")"
   ]
  },
  {
   "cell_type": "code",
   "execution_count": null,
   "id": "66d4e9fc-037d-400a-bafa-e12fd2a41e37",
   "metadata": {},
   "outputs": [],
   "source": [
    "city_data.insert"
   ]
  },
  {
   "cell_type": "markdown",
   "id": "368459a9-504a-44f1-b984-bf2a127a3aad",
   "metadata": {},
   "source": [
    "#CONTROL STATEMENTS\n",
    "1) IF "
   ]
  },
  {
   "cell_type": "code",
   "execution_count": 46,
   "id": "57b7d1b7-40ac-48a9-8153-59a1e35224be",
   "metadata": {},
   "outputs": [
    {
     "name": "stdout",
     "output_type": "stream",
     "text": [
      "x is greater than 10\n"
     ]
    }
   ],
   "source": [
    "x=11\n",
    "if x>10:\n",
    "    print('x is greater than 10')"
   ]
  },
  {
   "cell_type": "code",
   "execution_count": 48,
   "id": "e3b26549-273f-40a0-bfac-a60057324386",
   "metadata": {},
   "outputs": [
    {
     "name": "stdout",
     "output_type": "stream",
     "text": [
      "x is less than 10\n"
     ]
    }
   ],
   "source": [
    "x=7\n",
    "if x>10:\n",
    "    print('x is greater than 10')\n",
    "else:\n",
    "    print('x is less than 10')"
   ]
  },
  {
   "cell_type": "code",
   "execution_count": null,
   "id": "7b15f7a7-2fc4-4eb5-bbea-0721fec5b6aa",
   "metadata": {},
   "outputs": [],
   "source": []
  }
 ],
 "metadata": {
  "kernelspec": {
   "display_name": "Python 3 (ipykernel)",
   "language": "python",
   "name": "python3"
  },
  "language_info": {
   "codemirror_mode": {
    "name": "ipython",
    "version": 3
   },
   "file_extension": ".py",
   "mimetype": "text/x-python",
   "name": "python",
   "nbconvert_exporter": "python",
   "pygments_lexer": "ipython3",
   "version": "3.11.7"
  }
 },
 "nbformat": 4,
 "nbformat_minor": 5
}
