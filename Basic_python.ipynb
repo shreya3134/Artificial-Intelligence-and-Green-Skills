{
 "cells": [
  {
   "cell_type": "code",
   "execution_count": 5,
   "id": "43ec3c0f-33e2-4dec-b848-839e25bacede",
   "metadata": {},
   "outputs": [
    {
     "name": "stdout",
     "output_type": "stream",
     "text": [
      "Hello\n"
     ]
    }
   ],
   "source": [
    "\"\"\"\n",
    "This is a multiline comment\n",
    "\"\"\"\n",
    "print(\"Hello\");\n",
    "#This is a singleline comment"
   ]
  },
  {
   "cell_type": "code",
   "execution_count": 6,
   "id": "f94a6e86-4e8e-4120-8d05-4d230c850149",
   "metadata": {},
   "outputs": [],
   "source": [
    "x,y,z=1,2,3  # multiple assignments in one line\n",
    "\n",
    "# unpacking\n",
    "numbers={4,5,6}\n",
    "a,b,c= numbers"
   ]
  },
  {
   "cell_type": "code",
   "execution_count": 9,
   "id": "5bca1f82-8e8a-4728-b1c4-c18947d62c5a",
   "metadata": {},
   "outputs": [
    {
     "name": "stdout",
     "output_type": "stream",
     "text": [
      "{4, 5, 6}\n",
      "4\n",
      "5\n",
      "6\n"
     ]
    }
   ],
   "source": [
    "print(numbers)\n",
    "print(a)\n",
    "print(b)\n",
    "print(c)"
   ]
  },
  {
   "cell_type": "code",
   "execution_count": 10,
   "id": "6f6e9abf-47f2-4fc1-b08c-8026d25aee5a",
   "metadata": {},
   "outputs": [],
   "source": [
    "#Number\n",
    "int_a=12\n",
    "float_b=11.3\n",
    "complex_c=1+5j\n",
    "\n",
    "#Boolean\n",
    "bool_d=True\n",
    "\n",
    "#set\n",
    "set_e=(1,2,3)\n",
    "\n",
    "#dictionary\n",
    "dict_f={\"Gade\":\"Shreya\",\"City\":\"Pune\"}\n",
    "\n",
    "#sequence\n",
    "str_g=\"ECE\"\n",
    "list_h=[1,2,3,4,5]\n",
    "tuple_i=(1,4,8)"
   ]
  },
  {
   "cell_type": "code",
   "execution_count": 12,
   "id": "bc0a7c35-d5ed-428b-8890-0c3fe09175bb",
   "metadata": {},
   "outputs": [
    {
     "name": "stdout",
     "output_type": "stream",
     "text": [
      "INTEGER :  12\n",
      "FLOAT :  11.3\n",
      "COMPLEX :  (1+5j)\n",
      "BOOLEAN :  True\n",
      "SET :  (1, 2, 3)\n",
      "DICTIONARY :  {'Gade': 'Shreya', 'City': 'Pune'}\n",
      "STRING :  ECE\n",
      "LIST :  [1, 2, 3, 4, 5]\n",
      "TUPLE :  (1, 4, 8)\n"
     ]
    }
   ],
   "source": [
    "print(\"INTEGER : \",int_a)\n",
    "print(\"FLOAT : \",float_b)\n",
    "print(\"COMPLEX : \",complex_c)\n",
    "print(\"BOOLEAN : \",bool_d)\n",
    "print(\"SET : \",set_e)\n",
    "print(\"DICTIONARY : \",dict_f)\n",
    "print(\"STRING : \",str_g)\n",
    "print(\"LIST : \",list_h)\n",
    "print(\"TUPLE : \",tuple_i)"
   ]
  },
  {
   "cell_type": "code",
   "execution_count": 17,
   "id": "1b49636c-1384-49a8-b767-4b446fd17388",
   "metadata": {},
   "outputs": [
    {
     "name": "stdout",
     "output_type": "stream",
     "text": [
      "<class 'int'>\n",
      "<class 'float'>\n",
      "<class 'complex'>\n",
      "<class 'bool'>\n",
      "<class 'tuple'>\n",
      "<class 'dict'>\n",
      "<class 'str'>\n",
      "<class 'list'>\n",
      "<class 'tuple'>\n"
     ]
    }
   ],
   "source": [
    "print(type(int_a))\n",
    "print(type(float_b))\n",
    "print(type(complex_c))\n",
    "print(type(bool_d))\n",
    "print(type(set_e))\n",
    "print(type(dict_f))\n",
    "print(type(str_g))\n",
    "print(type(list_h))\n",
    "print(type(tuple_i))"
   ]
  },
  {
   "cell_type": "code",
   "execution_count": 25,
   "id": "681741ac-feaf-4623-bc73-373751e49465",
   "metadata": {},
   "outputs": [
    {
     "data": {
      "text/plain": [
       "10.0"
      ]
     },
     "execution_count": 25,
     "metadata": {},
     "output_type": "execute_result"
    }
   ],
   "source": [
    "#Arithmetic operators\n",
    "100/10"
   ]
  },
  {
   "cell_type": "code",
   "execution_count": 19,
   "id": "3f82eb1d-3714-4c45-a739-141cec9da15d",
   "metadata": {},
   "outputs": [
    {
     "data": {
      "text/plain": [
       "20"
      ]
     },
     "execution_count": 19,
     "metadata": {},
     "output_type": "execute_result"
    }
   ],
   "source": [
    "5*4"
   ]
  },
  {
   "cell_type": "code",
   "execution_count": 20,
   "id": "6fdbfe82-c04c-42d4-aa29-999f3a1c3919",
   "metadata": {},
   "outputs": [
    {
     "data": {
      "text/plain": [
       "25"
      ]
     },
     "execution_count": 20,
     "metadata": {},
     "output_type": "execute_result"
    }
   ],
   "source": [
    "5**2"
   ]
  },
  {
   "cell_type": "code",
   "execution_count": 22,
   "id": "af05de98-6288-4345-b23b-20f8866e68cc",
   "metadata": {},
   "outputs": [
    {
     "data": {
      "text/plain": [
       "26.333333333333332"
      ]
     },
     "execution_count": 22,
     "metadata": {},
     "output_type": "execute_result"
    }
   ],
   "source": [
    "79/3"
   ]
  },
  {
   "cell_type": "code",
   "execution_count": 23,
   "id": "3cc073f8-86c4-483c-bfa3-b48a15be3c47",
   "metadata": {},
   "outputs": [
    {
     "data": {
      "text/plain": [
       "7.560975609756098"
      ]
     },
     "execution_count": 23,
     "metadata": {},
     "output_type": "execute_result"
    }
   ],
   "source": [
    "62/8.2"
   ]
  },
  {
   "cell_type": "code",
   "execution_count": 24,
   "id": "b6b94430-32a5-48fb-9276-54eba0350573",
   "metadata": {},
   "outputs": [
    {
     "data": {
      "text/plain": [
       "2"
      ]
     },
     "execution_count": 24,
     "metadata": {},
     "output_type": "execute_result"
    }
   ],
   "source": [
    "99//41"
   ]
  },
  {
   "cell_type": "code",
   "execution_count": 27,
   "id": "3fbe515e-3eaa-4d1a-9653-6c6bbff174a4",
   "metadata": {},
   "outputs": [
    {
     "name": "stdout",
     "output_type": "stream",
     "text": [
      "False\n"
     ]
    }
   ],
   "source": [
    "#Comparison Operators\n",
    "a=180\n",
    "b=160\n",
    "print(a==b)"
   ]
  },
  {
   "cell_type": "code",
   "execution_count": 31,
   "id": "6f96b1b3-5b72-418c-b826-44b5ee139db9",
   "metadata": {},
   "outputs": [
    {
     "name": "stdout",
     "output_type": "stream",
     "text": [
      "True\n"
     ]
    }
   ],
   "source": [
    "c=\"Hello\"\n",
    "d=\"Hello\"\n",
    "print(c==d)"
   ]
  },
  {
   "cell_type": "code",
   "execution_count": 33,
   "id": "24e2bc6f-4091-499c-8e84-3fe8bf466bf1",
   "metadata": {},
   "outputs": [
    {
     "name": "stdout",
     "output_type": "stream",
     "text": [
      "True\n"
     ]
    }
   ],
   "source": [
    "c=\"HELLO\"\n",
    "d=\"Hello\"\n",
    "print(c!=d)"
   ]
  },
  {
   "cell_type": "code",
   "execution_count": 36,
   "id": "10a4fa91-c81d-4baa-973a-aa18568491ad",
   "metadata": {},
   "outputs": [
    {
     "data": {
      "text/plain": [
       "False"
      ]
     },
     "execution_count": 36,
     "metadata": {},
     "output_type": "execute_result"
    }
   ],
   "source": [
    "100>140"
   ]
  },
  {
   "cell_type": "code",
   "execution_count": 37,
   "id": "fc31e64a-f9b6-4f0c-99f2-f9c8a892d970",
   "metadata": {},
   "outputs": [
    {
     "data": {
      "text/plain": [
       "True"
      ]
     },
     "execution_count": 37,
     "metadata": {},
     "output_type": "execute_result"
    }
   ],
   "source": [
    "167<=170"
   ]
  },
  {
   "cell_type": "code",
   "execution_count": 38,
   "id": "04b4fb52-82a0-4b9a-9558-315fac0e0171",
   "metadata": {},
   "outputs": [
    {
     "data": {
      "text/plain": [
       "False"
      ]
     },
     "execution_count": 38,
     "metadata": {},
     "output_type": "execute_result"
    }
   ],
   "source": [
    "129>=130"
   ]
  },
  {
   "cell_type": "code",
   "execution_count": 50,
   "id": "cd85bf16-5444-4151-bb10-1de9cce1f96b",
   "metadata": {},
   "outputs": [
    {
     "name": "stdout",
     "output_type": "stream",
     "text": [
      "10\n",
      "200\n"
     ]
    }
   ],
   "source": [
    "#Assignment operators- assign values \n",
    "y=+10\n",
    "print(y)\n",
    "k=100\n",
    "k+=100\n",
    "print(k)"
   ]
  },
  {
   "cell_type": "code",
   "execution_count": 54,
   "id": "6a8c15bd-1956-4e4a-a01d-d0e0fb1d5d85",
   "metadata": {},
   "outputs": [
    {
     "data": {
      "text/plain": [
       "False"
      ]
     },
     "execution_count": 54,
     "metadata": {},
     "output_type": "execute_result"
    }
   ],
   "source": [
    "#Logical Operators\n",
    "e=10\n",
    "f=20\n",
    "e>10 and f>10"
   ]
  },
  {
   "cell_type": "code",
   "execution_count": 53,
   "id": "81495ff4-1564-4b01-bcdb-4ff215b2e8e2",
   "metadata": {},
   "outputs": [
    {
     "data": {
      "text/plain": [
       "True"
      ]
     },
     "execution_count": 53,
     "metadata": {},
     "output_type": "execute_result"
    }
   ],
   "source": [
    "e=10\n",
    "f=20\n",
    "e>10 or f>10"
   ]
  },
  {
   "cell_type": "code",
   "execution_count": 55,
   "id": "c66c0ea9-e3b3-4b8d-91ec-4a0f55d171b3",
   "metadata": {},
   "outputs": [
    {
     "data": {
      "text/plain": [
       "False"
      ]
     },
     "execution_count": 55,
     "metadata": {},
     "output_type": "execute_result"
    }
   ],
   "source": [
    "not(e>10 or f>10)"
   ]
  },
  {
   "cell_type": "code",
   "execution_count": 56,
   "id": "5989ed2e-4177-47d1-813c-76774ae0a677",
   "metadata": {},
   "outputs": [
    {
     "data": {
      "text/plain": [
       "False"
      ]
     },
     "execution_count": 56,
     "metadata": {},
     "output_type": "execute_result"
    }
   ],
   "source": [
    "# Identity Operator - check identity values\n",
    "i=150\n",
    "j=40\n",
    "i is y"
   ]
  },
  {
   "cell_type": "code",
   "execution_count": 57,
   "id": "f9104bc8-cc0f-4e47-ba21-242b058f6be9",
   "metadata": {},
   "outputs": [
    {
     "data": {
      "text/plain": [
       "True"
      ]
     },
     "execution_count": 57,
     "metadata": {},
     "output_type": "execute_result"
    }
   ],
   "source": [
    "l=150\n",
    "m=150\n",
    "l is m"
   ]
  },
  {
   "cell_type": "code",
   "execution_count": 58,
   "id": "4c7ad90b-8867-4a5c-99c9-0a9cb00eede6",
   "metadata": {},
   "outputs": [
    {
     "data": {
      "text/plain": [
       "False"
      ]
     },
     "execution_count": 58,
     "metadata": {},
     "output_type": "execute_result"
    }
   ],
   "source": [
    "l is not m"
   ]
  },
  {
   "cell_type": "code",
   "execution_count": 60,
   "id": "df03f580-2361-4544-be4b-1e6c364a85a3",
   "metadata": {},
   "outputs": [
    {
     "data": {
      "text/plain": [
       "True"
      ]
     },
     "execution_count": 60,
     "metadata": {},
     "output_type": "execute_result"
    }
   ],
   "source": [
    "#Membership operators if a particular value is a part of any sequence\n",
    "n=\"H\"\n",
    "m=\"HelloWorld\"\n",
    "n in m"
   ]
  },
  {
   "cell_type": "code",
   "execution_count": 61,
   "id": "c3d031d7-6f55-4f35-89c1-2b6f9b2d7050",
   "metadata": {},
   "outputs": [
    {
     "data": {
      "text/plain": [
       "False"
      ]
     },
     "execution_count": 61,
     "metadata": {},
     "output_type": "execute_result"
    }
   ],
   "source": [
    "n not in m"
   ]
  },
  {
   "cell_type": "code",
   "execution_count": 63,
   "id": "d225b78c-362b-4fcf-8f73-fd4e2d9793c1",
   "metadata": {},
   "outputs": [
    {
     "data": {
      "text/plain": [
       "20202"
      ]
     },
     "execution_count": 63,
     "metadata": {},
     "output_type": "execute_result"
    }
   ],
   "source": [
    "10101<<1"
   ]
  },
  {
   "cell_type": "code",
   "execution_count": 64,
   "id": "17ab65db-2428-4bff-9c6e-502fce9554df",
   "metadata": {},
   "outputs": [
    {
     "data": {
      "text/plain": [
       "16"
      ]
     },
     "execution_count": 64,
     "metadata": {},
     "output_type": "execute_result"
    }
   ],
   "source": [
    "#Left Shift Operator\n",
    "2<<3 # 2* 2^3"
   ]
  },
  {
   "cell_type": "code",
   "execution_count": 65,
   "id": "76460647-8717-4b47-b1d0-cdf2e1599fdf",
   "metadata": {},
   "outputs": [
    {
     "data": {
      "text/plain": [
       "16"
      ]
     },
     "execution_count": 65,
     "metadata": {},
     "output_type": "execute_result"
    }
   ],
   "source": [
    "2*(2**3)"
   ]
  },
  {
   "cell_type": "code",
   "execution_count": 67,
   "id": "8884f9a8-fb52-48e5-abb6-d52507638c34",
   "metadata": {},
   "outputs": [
    {
     "data": {
      "text/plain": [
       "2"
      ]
     },
     "execution_count": 67,
     "metadata": {},
     "output_type": "execute_result"
    }
   ],
   "source": [
    "#Right Shift Operator\n",
    "16>>3 #16/2^3"
   ]
  },
  {
   "cell_type": "code",
   "execution_count": 68,
   "id": "ea72372d-b3a8-4ce1-b110-123d61e52f8f",
   "metadata": {},
   "outputs": [
    {
     "data": {
      "text/plain": [
       "2.0"
      ]
     },
     "execution_count": 68,
     "metadata": {},
     "output_type": "execute_result"
    }
   ],
   "source": [
    "16/(2**3)"
   ]
  },
  {
   "cell_type": "code",
   "execution_count": 69,
   "id": "743173ac-d687-498b-ba20-bc74b0b27c04",
   "metadata": {},
   "outputs": [
    {
     "data": {
      "text/plain": [
       "32"
      ]
     },
     "execution_count": 69,
     "metadata": {},
     "output_type": "execute_result"
    }
   ],
   "source": [
    "4<<3"
   ]
  },
  {
   "cell_type": "code",
   "execution_count": 70,
   "id": "8dadbc62-1029-4094-9ab7-82eb5e745a41",
   "metadata": {},
   "outputs": [
    {
     "data": {
      "text/plain": [
       "32"
      ]
     },
     "execution_count": 70,
     "metadata": {},
     "output_type": "execute_result"
    }
   ],
   "source": [
    "4*(2**3)"
   ]
  },
  {
   "cell_type": "code",
   "execution_count": 71,
   "id": "9f42416f-c8e0-4ceb-b472-fd6144c07bc2",
   "metadata": {},
   "outputs": [
    {
     "data": {
      "text/plain": [
       "0.5"
      ]
     },
     "execution_count": 71,
     "metadata": {},
     "output_type": "execute_result"
    }
   ],
   "source": [
    "4/(2**3)"
   ]
  },
  {
   "cell_type": "code",
   "execution_count": 72,
   "id": "839cb56d-8b2f-438f-aa70-979682656ff0",
   "metadata": {},
   "outputs": [
    {
     "data": {
      "text/plain": [
       "0"
      ]
     },
     "execution_count": 72,
     "metadata": {},
     "output_type": "execute_result"
    }
   ],
   "source": [
    "4>>3"
   ]
  },
  {
   "cell_type": "code",
   "execution_count": null,
   "id": "ab79a424-0db2-491c-9954-80b409313306",
   "metadata": {},
   "outputs": [],
   "source": [
    "#Input and Output Function\n",
    "input()"
   ]
  }
 ],
 "metadata": {
  "kernelspec": {
   "display_name": "Python 3 (ipykernel)",
   "language": "python",
   "name": "python3"
  },
  "language_info": {
   "codemirror_mode": {
    "name": "ipython",
    "version": 3
   },
   "file_extension": ".py",
   "mimetype": "text/x-python",
   "name": "python",
   "nbconvert_exporter": "python",
   "pygments_lexer": "ipython3",
   "version": "3.11.7"
  }
 },
 "nbformat": 4,
 "nbformat_minor": 5
}
